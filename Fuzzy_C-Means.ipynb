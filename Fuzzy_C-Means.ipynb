{
 "cells": [
  {
   "cell_type": "markdown",
   "id": "8e20d145-b89b-4cac-b6d1-2352a2bf1e6f",
   "metadata": {},
   "source": [
    "# Fuzzy C-Means\n",
    "Fuzzy C-Means (FCM), atau dikenal juga sebagai Fuzzy Isodata merupakan salah satu metode clustering yang merupakan bagian dari metode Hard K-Means. FCM menggunakan model pengelompokan fuzzy sehingga data dapat menjadi anggota dari semua kelas atau cluster terbentuk dengan derajat atau tingkat keanggotaan yang berbeda antara 0 hingga 1. Tingkat keberadaan data dalam suatu kelas atau cluster ditentukan oleh derajat keanggotaannya.\n",
    "\n",
    "Konsep dasar FCM, pertama kali adalah menentukan pusat cluster yang akan menandai lokasi rata-rata untuk setiap cluster. Pada kondisi awal pusat cluster ini masih belum akurat. Setiap data memiliki derajat keanggotaan untuk setiap cluster. Dengan cara memperbaiki pusat cluster dan nilai keanggotaan setiap data secara berulang, maka dapat dilihat bahwa pusat cluster akan menuju lokasi yang tepat. Perulangan ini didasarkan pada minimasi fungsi objektif yang menggambarkan jarak dari titik data yang diberikan ke pusat cluster yang berbobot oleh derajat keanggotaan titik data tersebut.\n",
    "\n",
    "Algoritmanya:\n",
    "1. Input data yang akan di-cluster, 𝑋, berupa matriks berukuran 𝑛 × 𝑚 (𝑛 = jumlah sampel data, 𝑚 = atribut setiap data). 𝑋𝑖𝑗 data sampel ke-𝑖 (𝑖 = 1,2, ⋯ , 𝑛), atribut ke-𝑗 (𝑗 = 1,2, ⋯ , 𝑚).\n",
    "2. Tentukan: \n",
    "    - Jumlah cluster = 𝑐 \n",
    "    - Pangkat = 𝑤 \n",
    "    - Maksimum iterasi = Maxlter \n",
    "    - Error terkecil yang diharapkan = 𝜉 \n",
    "    - Fungsi objektif awal = 𝑃0 = 0 \n",
    "    - Iterasi awal = 𝑡 = 1\n",
    "3. Bangkitkan bilangan random 𝜇𝑖𝑘, 𝑖 = 1,2, ⋯ , 𝑛; 𝑘 = 1,2, ⋯ , 𝑐; sebagai elemen-elemen matriks partisi awal 𝑈.  <br>\n",
    "![img3](https://i.ibb.co/G07W7vx/3.png)\n",
    "4. Hitung pusat cluster ke-𝑘, 𝑉𝑘𝑗 dengan 𝑘 = 1,2, ⋯ , 𝑐 dan 𝑗 = 1,2, ⋯ , m. <br>\n",
    "![img4](https://i.ibb.co/7QqQjtL/4.png)\n",
    "5. Hitung fungsi objektif pada iterasi ke-𝑡, Pt. <br>\n",
    "![img5](https://i.ibb.co/3RG88kX/5.png)\n",
    "6. Hitung perubahan matriks partisi. <br>\n",
    "![img6](https://i.ibb.co/BVXBZ1M/6.png)\n",
    "7. Cek kondisi berhenti \n",
    "    - Jika: (|𝑃𝑡 – 𝑃𝑡 − 1| < 𝜉) atau (𝑡 > Maxlter), maka berhenti; \n",
    "    - Jika tidak: 𝑡 = 𝑡 + 1, ulangi langkah ke-4."
   ]
  },
  {
   "cell_type": "markdown",
   "id": "d1e9b746-7873-4c58-a90d-0a2e2aba44f4",
   "metadata": {},
   "source": [
    "<a id=\"top\"></a>\n",
    "## Langkah-Langkah Implementasi Kodingan\n",
    "1. Jalankan kodingan di [Section #1](#1).\n",
    "2. Pilih data yang ingin di-ujicobakan pada [Section #2](#2). Jika ingin menggunakan data dan miu sendiri, inisialisasi keduanya dalam bentuk array. Perlu diperhatikan bahwa data wajib ada, sedangkan miu opsional karena terdapat kodingan yang dapat generate miu secara dinamis.\n",
    "3. Kemudian buat objek Fuzzy C-Means nya sebagaimana pada [Section #3](#3) dan masukkan argumen yang ingin dicoba. Penjelasan parameter dari kelas FCM adalah sebagai berikut:\n",
    "    - data => data yang diujicoba (wajib)\n",
    "    - c => jumlah cluster (default=2)\n",
    "    - w => tingkat fuzzy/pangkat (default=2)\n",
    "    - max_iter => iterasi maksimum yang dilakukan (default=100)\n",
    "    - e => error terkecil yang diharapkan (default=0.01)\n",
    "    - p => fungsi objektif awal (default=0)\n",
    "    - t => iterasi awal (default=1)\n",
    "    - miu => bobot derajat keanggotaan dari data (default=None)\n",
    "4. Jika objek FCM sudah dibuat, kita dapat mengecek atributnya ([Section #4](#4)), yaitu:\n",
    "    - miu => bobot derajat\n",
    "    - part_u => matriks partisi\n",
    "    - c_center => pusat cluster\n",
    "    - get_cluster_result() => hasil dari pengelompokan clusternya"
   ]
  },
  {
   "cell_type": "markdown",
   "id": "71ff475b-0892-4b70-ae01-9d505dae69e1",
   "metadata": {},
   "source": [
    "<a id=\"1\"></a>\n",
    "## Section #1"
   ]
  },
  {
   "cell_type": "code",
   "execution_count": 1,
   "id": "357f9086-184f-4975-a454-5f9e87cfe536",
   "metadata": {},
   "outputs": [],
   "source": [
    "# import library\n",
    "from random import uniform\n",
    "import numpy as np"
   ]
  },
  {
   "cell_type": "code",
   "execution_count": 2,
   "id": "9862c27b-93de-4cd8-8407-e56d8b70595c",
   "metadata": {},
   "outputs": [],
   "source": [
    "class FCM:\n",
    "    '''Kelas Fuzzy C-Means'''\n",
    "    \n",
    "    c_center = None\n",
    "    part_u = None\n",
    "    \n",
    "    # fungsi konstruktor\n",
    "    def __init__(self, data, c=2, w=2, max_iter=100, e=0.01, p=0, t=1, miu=None):\n",
    "        if len(data[0]) < 2:\n",
    "            raise FCMError(\"Masa fiturnya dikit sih!\")\n",
    "        if self.check_diff_len(data):\n",
    "            raise FCMError(\"Ukuran data tidak sama!\")\n",
    "        if miu is not None and self.check_diff_len(miu):\n",
    "            raise FCMError(\"Ukuran miu tidak sama!\")\n",
    "        if miu is not None and len(miu) != len(data):\n",
    "            raise FCMError(\"Jumlah sampel dari data dan miu tidak selaras!\")\n",
    "        if c < 2:\n",
    "            raise FCMError(\"Jumlah clustering tidak valid!\")\n",
    "        self.data = data\n",
    "        self.n = len(data) # banyak sampel\n",
    "        self.c = c if miu is None else len(miu[0]) # jumlah cluster\n",
    "        self.w = w # tingkat keabuan \n",
    "        self.max_iter = max_iter # maksimum iterasi\n",
    "        self.e = e # error\n",
    "        self.p = [0] # kumpulan fungsi objektif\n",
    "        self.t = t # iterasi\n",
    "        self.miu = miu if miu is not None else self.generate_miu() # miu atau bobot\n",
    "        self.training()\n",
    "        \n",
    "    # fungsi untuk mengecek apakah ukuran tiap baris datanya konsisten\n",
    "    def check_diff_len(self, lists):\n",
    "        it = iter(lists)\n",
    "        the_len = len(next(it))\n",
    "        if not all(len(l) == the_len for l in it):\n",
    "             return True\n",
    "        else:\n",
    "            return False\n",
    "        \n",
    "    # fungsi untuk random nilai miu jika pengguna tidak menentukannya sendiri\n",
    "    def generate_miu(self):\n",
    "        miu = np.zeros((self.n, self.c))\n",
    "        for i in range(self.n):\n",
    "            for j in range(self.c):\n",
    "                if j == 0:\n",
    "                    miu[i,j] = round(uniform(0.1, 0.9), 2)\n",
    "                else:\n",
    "                    left = 1 - round(sum(miu[i,:j]),2)\n",
    "                    if j == self.c-1:\n",
    "                        miu[i,j] = round(left, 2)\n",
    "                    else:\n",
    "                        miu[i,j] = round(uniform(0.1, left/(self.c-j)), 2)\n",
    "        return miu\n",
    "    \n",
    "    # fungsi untuk melatih berdasar data dan miu\n",
    "    def training(self):\n",
    "        while True:\n",
    "            # miu kuadrat\n",
    "            miu_w = self.miu ** self.w\n",
    "            # kalikan nilai x dengan miu kuadratnya\n",
    "            cross_xc = []\n",
    "            for i in range(self.c):\n",
    "                cross_xc.append((self.data.transpose() * miu_w[:, i]).transpose())\n",
    "            # hitung total miu kuadrat\n",
    "            sum_miu_w = np.sum(miu_w, axis=0)\n",
    "            # hitung total dari perkalian tiap cluster tadi\n",
    "            sum_cross_xc = np.sum(cross_xc, axis=1)\n",
    "            # cari titik pusatnya\n",
    "            c_center = (sum_cross_xc.transpose() / sum_miu_w).transpose()\n",
    "            # hitung fungsi objektif\n",
    "            obj_fun = np.zeros((self.n, self.c))\n",
    "            for i in range(self.n):\n",
    "                for j in range(self.c):\n",
    "                    obj_fun[i,j] = sum((self.data[i]-c_center[j])**2)*miu_w[i][j]\n",
    "            # hitung total fungsi objektifnya\n",
    "            sum_obj_fun = np.sum(obj_fun)\n",
    "            self.p.append(sum_obj_fun)\n",
    "            # jika lanjut, cari matriks partisi u\n",
    "            part_u = np.zeros((self.n, self.c))\n",
    "            for i in range(self.n):\n",
    "                for j in range(self.c):\n",
    "                    part_u[i,j] = sum((data[i]-c_center[j])**2)**-1/(self.w-1)\n",
    "            # hitung total dari tiap baris partisi\n",
    "            lt = np.sum(part_u, axis=1)\n",
    "            # hitung miu baru\n",
    "            new_miu = (part_u.transpose() / lt).transpose()\n",
    "            # lakukan t selanjutnya jika belum max_iter\n",
    "            if abs(self.p[self.t] - self.p[self.t-1]) <= self.e or self.t == self.max_iter:\n",
    "                break\n",
    "            else:\n",
    "                self.miu = new_miu\n",
    "                self.t += 1\n",
    "        # ambil nilai cluster dan matriks partisi u saat iterasi terakhir\n",
    "        self.c_center = c_center\n",
    "        self.part_u = part_u\n",
    "        print(f\"Berakhir saat iterasi ke-{self.t}\")\n",
    "        \n",
    "    # fungsi untuk mendapatkan hasil pengelompokan clustering        \n",
    "    def get_cluster_result(self):\n",
    "        result = {}\n",
    "        cluster_result = (np.argmax(self.part_u, axis=1) + 1)\n",
    "        for i in range(self.n):\n",
    "            if cluster_result[i] not in result:\n",
    "                result[cluster_result[i]] = [i+1]\n",
    "            else:\n",
    "                result[cluster_result[i]].append(i+1)\n",
    "        result = dict(sorted(result.items())) # {key:result[key] for key in sorted(result.keys())}\n",
    "        print(result)\n",
    "        return result\n",
    "        \n",
    "class FCMError(Exception):\n",
    "    pass"
   ]
  },
  {
   "cell_type": "markdown",
   "id": "e8923c9f-a2e7-4fb1-aad3-95c6be0aa7fe",
   "metadata": {},
   "source": [
    "[Kembali ke atas](#top)\n",
    "<a id=\"2\"></a>\n",
    "## Section #2\n",
    "Coba Tambah Data Trainingnya Yok !\n",
    "\n",
    "Referensi data dan miu di bawah ini:\n",
    "- [Data YT](https://www.youtube.com/watch?v=7b7vVhSaFFs)\n",
    "- [Data Excel](https://berajah.if.unram.ac.id/pluginfile.php/19093/mod_resource/content/1/htiung%20FCM%20revisi.xlsx)\n",
    "- [Data Beasiswa](https://media.neliti.com/media/publications/277582-implementasi-fuzzy-c-means-clustering-da-3afa5ba1.pdf)"
   ]
  },
  {
   "cell_type": "code",
   "execution_count": 3,
   "id": "36d78caf-1af9-419b-951d-5f0246f9056f",
   "metadata": {},
   "outputs": [],
   "source": [
    "# data YT\n",
    "data = np.array([\n",
    "    [1, 3],\n",
    "    [3, 3],\n",
    "    [4, 3],\n",
    "    [5, 3],\n",
    "    [1, 2],\n",
    "    [4, 2],\n",
    "    [1, 1],\n",
    "    [2, 1],\n",
    "    [5, 2],\n",
    "    [2, 4]\n",
    "])\n",
    "\n",
    "miuw = np.array([\n",
    "    [0.28, 0.5 , 0.22],\n",
    "    [0.74, 0.12, 0.14],\n",
    "    [0.02, 0.83, 0.15],\n",
    "    [0.57, 0.02, 0.41],\n",
    "    [0.23, 0.15, 0.62],\n",
    "    [0.26, 0.52, 0.22],\n",
    "    [0.68, 0.31, 0.01],\n",
    "    [0.85, 0.12, 0.03],\n",
    "    [0.19, 0.39, 0.42],\n",
    "    [0.46, 0.35, 0.19]\n",
    "])"
   ]
  },
  {
   "cell_type": "code",
   "execution_count": null,
   "id": "22282646-5baf-4e45-bb2c-6431148d296e",
   "metadata": {},
   "outputs": [],
   "source": [
    "# data excel\n",
    "data = np.array([\n",
    "    [10,  8],\n",
    "    [ 4,  5],\n",
    "    [ 2,  3],\n",
    "    [ 9,  7],\n",
    "    [ 0,  1]\n",
    "])\n",
    "\n",
    "miuw = np.array([\n",
    "    [0.3, 0.7],\n",
    "    [0.6, 0.4],\n",
    "    [0.7, 0.3],\n",
    "    [0.4, 0.6],\n",
    "    [0.8, 0.2]\n",
    "])"
   ]
  },
  {
   "cell_type": "code",
   "execution_count": 3,
   "id": "00691a14-d452-429a-b120-22870016f170",
   "metadata": {},
   "outputs": [],
   "source": [
    "# data artikel beasiswa\n",
    "data = np.array([\n",
    "    [1. , 0.5, 0.5, 1. , 0.5],\n",
    "    [1. , 0.5, 0.5, 1. , 0. ],\n",
    "    [1. , 0.5, 0. , 1. , 0.5],\n",
    "    [1. , 1. , 0. , 0.5, 0.5],\n",
    "    [1. , 0. , 1. , 0.5, 0.5],\n",
    "    [1. , 0.5, 0. , 1. , 0.5],\n",
    "    [1. , 0. , 0.5, 1. , 0.5],\n",
    "    [1. , 0. , 0. , 0. , 0.5],\n",
    "    [1. , 1. , 0. , 0. , 0.5],\n",
    "    [0. , 0.5, 1. , 1. , 0.5],\n",
    "    [1. , 0.5, 0.5, 1. , 0.5],\n",
    "    [1. , 0.5, 1. , 1. , 0.5],\n",
    "    [1. , 0.5, 1. , 1. , 0.5],\n",
    "    [0. , 0. , 0.5, 0.5, 0.5]\n",
    "])\n",
    "\n",
    "miuw = np.array([\n",
    "    [0.18 , 0.82 ],\n",
    "    [0.323, 0.677],\n",
    "    [0.673, 0.327],\n",
    "    [0.834, 0.166],\n",
    "    [0.273, 0.727],\n",
    "    [0.673, 0.327],\n",
    "    [0.226, 0.774],\n",
    "    [0.696, 0.304],\n",
    "    [0.778, 0.222],\n",
    "    [0.326, 0.674],\n",
    "    [0.18 , 0.82 ],\n",
    "    [0.125, 0.875],\n",
    "    [0.125, 0.875],\n",
    "    [0.458, 0.542]\n",
    "])"
   ]
  },
  {
   "cell_type": "markdown",
   "id": "41c06c08-ab6f-4f2e-8274-abd6e9f4aefc",
   "metadata": {},
   "source": [
    "[Kembali ke atas](#top)\n",
    "<a id=\"3\"></a>\n",
    "## Section #3\n",
    "Coba Test Buat Objeknya Yok !"
   ]
  },
  {
   "cell_type": "code",
   "execution_count": 4,
   "id": "098cba64-0c36-47a2-b1b8-ebf9ede78056",
   "metadata": {},
   "outputs": [
    {
     "name": "stdout",
     "output_type": "stream",
     "text": [
      "Berakhir saat iterasi ke-18\n"
     ]
    }
   ],
   "source": [
    "# fcm YT\n",
    "obj = FCM(data, e=10**-4, miu=miuw)"
   ]
  },
  {
   "cell_type": "code",
   "execution_count": null,
   "id": "efd9dfd1-9e5e-40c0-ac70-332ecaa07d07",
   "metadata": {},
   "outputs": [],
   "source": [
    "# fcm excel\n",
    "obj = FCM(data, miu=miuw, e=0.1)"
   ]
  },
  {
   "cell_type": "code",
   "execution_count": 4,
   "id": "a46a65c1-9b28-4355-b229-27153ade4902",
   "metadata": {},
   "outputs": [
    {
     "name": "stdout",
     "output_type": "stream",
     "text": [
      "Berakhir saat iterasi ke-2\n"
     ]
    }
   ],
   "source": [
    "# fcm artikel beasiswa\n",
    "obj = FCM(data, miu=miuw, max_iter=50)"
   ]
  },
  {
   "cell_type": "markdown",
   "id": "f7cdaaef-a5e4-413e-bb1c-f0f3997226db",
   "metadata": {},
   "source": [
    "Tes Generate Miunya Yok !"
   ]
  },
  {
   "cell_type": "code",
   "execution_count": null,
   "id": "9032a038-00df-4e09-9189-27235c3e748a",
   "metadata": {},
   "outputs": [],
   "source": [
    "obj.generate_miu()"
   ]
  },
  {
   "cell_type": "markdown",
   "id": "5f93fb5e-2ce3-4ae3-914e-ad5b0695a3fa",
   "metadata": {},
   "source": [
    "[Kembali ke atas](#top)\n",
    "<a id=\"4\"></a>\n",
    "## Section #4\n",
    "Cek Atributnya Yok !"
   ]
  },
  {
   "cell_type": "code",
   "execution_count": 5,
   "id": "bc4cb40e-6006-4f13-ad6f-63a98ea14271",
   "metadata": {},
   "outputs": [
    {
     "data": {
      "text/plain": [
       "array([[0.18 , 0.82 ],\n",
       "       [0.323, 0.677],\n",
       "       [0.672, 0.328],\n",
       "       [0.834, 0.166],\n",
       "       [0.273, 0.727],\n",
       "       [0.672, 0.328],\n",
       "       [0.226, 0.774],\n",
       "       [0.696, 0.304],\n",
       "       [0.778, 0.222],\n",
       "       [0.326, 0.674],\n",
       "       [0.18 , 0.82 ],\n",
       "       [0.125, 0.875],\n",
       "       [0.125, 0.875],\n",
       "       [0.458, 0.542]])"
      ]
     },
     "execution_count": 5,
     "metadata": {},
     "output_type": "execute_result"
    }
   ],
   "source": [
    "np.round(obj.miu, 3)"
   ]
  },
  {
   "cell_type": "code",
   "execution_count": 6,
   "id": "4bcddd1a-e11b-4e8e-ab9d-bfac13fdc4b3",
   "metadata": {},
   "outputs": [
    {
     "data": {
      "text/plain": [
       "array([[ 2.65, 12.12],\n",
       "       [ 1.63,  3.43],\n",
       "       [ 3.91,  1.91],\n",
       "       [ 4.78,  0.95],\n",
       "       [ 0.91,  2.42],\n",
       "       [ 3.91,  1.91],\n",
       "       [ 1.43,  4.9 ],\n",
       "       [ 1.59,  0.69],\n",
       "       [ 2.06,  0.59],\n",
       "       [ 0.55,  1.14],\n",
       "       [ 2.65, 12.12],\n",
       "       [ 1.  ,  7.03],\n",
       "       [ 1.  ,  7.03],\n",
       "       [ 0.78,  0.92]])"
      ]
     },
     "execution_count": 6,
     "metadata": {},
     "output_type": "execute_result"
    }
   ],
   "source": [
    "np.round(obj.part_u, 2)"
   ]
  },
  {
   "cell_type": "code",
   "execution_count": 7,
   "id": "f90b652b-271c-4d44-8e61-7d192d26df10",
   "metadata": {},
   "outputs": [
    {
     "data": {
      "text/plain": [
       "array([[0.91, 0.57, 0.13, 0.53, 0.48],\n",
       "       [0.87, 0.37, 0.69, 0.9 , 0.46]])"
      ]
     },
     "execution_count": 7,
     "metadata": {},
     "output_type": "execute_result"
    }
   ],
   "source": [
    "np.round(obj.c_center, 2)"
   ]
  },
  {
   "cell_type": "code",
   "execution_count": 8,
   "id": "a1fc89da-5a4e-41e2-a723-e43b34fd75a4",
   "metadata": {},
   "outputs": [
    {
     "name": "stdout",
     "output_type": "stream",
     "text": [
      "{1: [3, 4, 6, 8, 9], 2: [1, 2, 5, 7, 10, 11, 12, 13, 14]}\n"
     ]
    }
   ],
   "source": [
    "cluster_result = obj.get_cluster_result()"
   ]
  },
  {
   "cell_type": "markdown",
   "id": "fd3af0d4-e548-4335-8480-c85906d4c394",
   "metadata": {},
   "source": [
    "[Kembali ke atas](#top)\n",
    "### Hitung Akurasi (Khusus Beasiswa)"
   ]
  },
  {
   "cell_type": "code",
   "execution_count": 9,
   "id": "d5b21ac2-0270-44f6-a18c-654ff2b81bc7",
   "metadata": {},
   "outputs": [],
   "source": [
    "target = {\n",
    "    1: [10, 14],\n",
    "    2: [1, 2, 3, 4, 5, 6, 7, 8, 9, 11, 12, 13]\n",
    "}"
   ]
  },
  {
   "cell_type": "code",
   "execution_count": 10,
   "id": "d4b6e612-4d21-4808-8ee0-27d4c7dd7176",
   "metadata": {},
   "outputs": [
    {
     "name": "stdout",
     "output_type": "stream",
     "text": [
      "Akurasi: 50.0%\n"
     ]
    }
   ],
   "source": [
    "# list bener dan salah ditebak\n",
    "correct, wrong = [], []\n",
    "n = len(data)\n",
    "\n",
    "# looping untuk cek yang mana yang bener dan salah\n",
    "for k in target:\n",
    "    for v in target[k]:\n",
    "        if v in cluster_result[k]:\n",
    "            correct.append(v)\n",
    "        else:\n",
    "            wrong.append(v)\n",
    "            \n",
    "# akurasi\n",
    "accuracy = (len(correct)/n)*100\n",
    "print(f'Akurasi: {accuracy}%')"
   ]
  }
 ],
 "metadata": {
  "kernelspec": {
   "display_name": "Python 3",
   "language": "python",
   "name": "python3"
  },
  "language_info": {
   "codemirror_mode": {
    "name": "ipython",
    "version": 3
   },
   "file_extension": ".py",
   "mimetype": "text/x-python",
   "name": "python",
   "nbconvert_exporter": "python",
   "pygments_lexer": "ipython3",
   "version": "3.8.8"
  }
 },
 "nbformat": 4,
 "nbformat_minor": 5
}
